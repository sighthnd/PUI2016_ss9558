{
 "cells": [
  {
   "cell_type": "markdown",
   "metadata": {},
   "source": [
    "## Assignment 2\n",
    "### Question:For a rider whose age is above 45, men are less likely than woman to ride a bike. \n",
    "#### Null hypothesis:\n",
    "The ratio of man above age 45 to man age 45 or below riding a bike is the same or greater than the ratio of woman above age 45 to woman age 45 or below riding a bike. \n",
    "\n",
    "#### Alternative hypothesis:\n",
    "The ratio of man above age 45 to man age 45 or below riding a bike is smaller than the ratio of woman above age 45 to woman age 45 or below riding a bike. \n",
    "\n",
    "$\\frac{W_{above45}}{W_{45orbelow}} <= \\frac{M_{above45}}{M_{45orbelow}}$\n",
    "\n",
    "$\\frac{W_{above45}}{W_{45orbelow}} > \\frac{M_{above45}}{M_{45orbelow}}$\n",
    "\n",
    "I will use a significance level $\\alpha=0.05$.\n"
   ]
  },
  {
   "cell_type": "code",
   "execution_count": 1,
   "metadata": {
    "collapsed": false
   },
   "outputs": [
    {
     "name": "stdout",
     "output_type": "stream",
     "text": [
      "Populating the interactive namespace from numpy and matplotlib\n"
     ]
    }
   ],
   "source": [
    "from __future__  import print_function, division\n",
    "import pylab as pl\n",
    "import pandas as pd\n",
    "import numpy as np\n",
    "import os\n",
    "import json\n",
    "\n",
    "%pylab inline\n",
    "\n",
    "if os.getenv ('PUI2016') is None:\n",
    "    print (\"Must set env variable PUI2016\")\n",
    "if os.getenv ('PUIDATA') is None:\n",
    "    print (\"Must set env variable PUI2016\")"
   ]
  },
  {
   "cell_type": "code",
   "execution_count": 2,
   "metadata": {
    "collapsed": false
   },
   "outputs": [
    {
     "data": {
      "text/plain": [
       "'/home/cusp/ss9558/PUIdata'"
      ]
     },
     "execution_count": 2,
     "metadata": {},
     "output_type": "execute_result"
    }
   ],
   "source": [
    "os.getenv ('PUI2016')\n",
    "os.getenv ('PUIDATA')"
   ]
  },
  {
   "cell_type": "code",
   "execution_count": 3,
   "metadata": {
    "collapsed": true
   },
   "outputs": [],
   "source": [
    "def getCitiBikeCSV(datestring):\n",
    "    print (\"Downloading\", datestring)\n",
    "    ### First I will heck that it is not already there\n",
    "    if not os.path.isfile(os.getenv(\"PUIDATA\") + \"/\" + datestring + \"-citibike-tripdata.csv\"):\n",
    "        if os.path.isfile(datestring + \"-citibike-tripdata.csv\"):\n",
    "            # if in the current dir just move it\n",
    "            if os.system(\"mv \" + datestring + \"-citibike-tripdata.csv \" + os.getenv(\"PUIDATA\")):\n",
    "                print (\"Error moving file!, Please check!\")\n",
    "        #otherwise start looking for the zip file\n",
    "        else:\n",
    "            if not os.path.isfile(os.getenv(\"PUIDATA\") + \"/\" + datestring + \"-citibike-tripdata.zip\"):\n",
    "                if not os.path.isfile(datestring + \"-citibike-tripdata.zip\"):\n",
    "                    os.system(\"curl -O https://s3.amazonaws.com/tripdata/\" + datestring + \"-citibike-tripdata.zip\")\n",
    "                ###  To move it I use the os.system() functions to run bash commands with arguments\n",
    "                os.system(\"mkdir \" + os.getenv(\"PUIDATA\")) ##you have to make a new file directory first \n",
    "                os.system(\"mv \" + datestring + \"-citibike-tripdata.zip \" + os.getenv(\"PUIDATA\"))\n",
    "            ### unzip the csv \n",
    "            os.system(\"unzip \" + os.getenv(\"PUIDATA\") + \"/\" + datestring + \"-citibike-tripdata.zip -d \" + os.getenv(\"PUIDATA\"))\n",
    "            ## NOTE: old csv citibike data had a different name structure. \n",
    "            if '2014' in datestring:\n",
    "                os.system(\"mv \" + datestring[:4] + '-' +  datestring[4:] + \n",
    "                          \"/ -/ Citi/ Bike/ trip/ data.csv \" + datestring + \"-citibike-tripdata.csv\")\n",
    "                os.system(\"mv \" + datestring + \"-citibike-tripdata.csv \" + os.getenv(\"PUIDATA\"))\n",
    "    ### One final check:\n",
    "    if not os.path.isfile(os.getenv(\"PUIDATA\") + \"/\" + datestring + \"-citibike-tripdata.csv\"):\n",
    "        print (\"WARNING!!! something is wrong: the file is not there!\")\n",
    "\n",
    "    else:\n",
    "        print (\"file in place, you can continue\")\n",
    "    os.system(\"rm \" + os.getenv(\"PUIDATA\") + \"/\" + datestring + \"-citibike-tripdata.zip\")"
   ]
  },
  {
   "cell_type": "code",
   "execution_count": 4,
   "metadata": {
    "collapsed": false
   },
   "outputs": [
    {
     "name": "stdout",
     "output_type": "stream",
     "text": [
      "Downloading 201503\n",
      "file in place, you can continue\n"
     ]
    }
   ],
   "source": [
    "datestring = '201503'\n",
    "getCitiBikeCSV(datestring)"
   ]
  },
  {
   "cell_type": "code",
   "execution_count": 5,
   "metadata": {
    "collapsed": true
   },
   "outputs": [],
   "source": [
    "df = pd.read_csv(os.getenv(\"PUIDATA\") + \"/\" + \n",
    "               datestring + '-citibike-tripdata.csv')"
   ]
  },
  {
   "cell_type": "code",
   "execution_count": 6,
   "metadata": {
    "collapsed": false
   },
   "outputs": [
    {
     "data": {
      "text/html": [
       "<div>\n",
       "<table border=\"1\" class=\"dataframe\">\n",
       "  <thead>\n",
       "    <tr style=\"text-align: right;\">\n",
       "      <th></th>\n",
       "      <th>tripduration</th>\n",
       "      <th>starttime</th>\n",
       "      <th>stoptime</th>\n",
       "      <th>start station id</th>\n",
       "      <th>start station name</th>\n",
       "      <th>start station latitude</th>\n",
       "      <th>start station longitude</th>\n",
       "      <th>end station id</th>\n",
       "      <th>end station name</th>\n",
       "      <th>end station latitude</th>\n",
       "      <th>end station longitude</th>\n",
       "      <th>bikeid</th>\n",
       "      <th>usertype</th>\n",
       "      <th>birth year</th>\n",
       "      <th>gender</th>\n",
       "    </tr>\n",
       "  </thead>\n",
       "  <tbody>\n",
       "    <tr>\n",
       "      <th>0</th>\n",
       "      <td>669</td>\n",
       "      <td>3/1/2015 0:00</td>\n",
       "      <td>3/1/2015 0:11</td>\n",
       "      <td>164</td>\n",
       "      <td>E 47 St &amp; 2 Ave</td>\n",
       "      <td>40.753231</td>\n",
       "      <td>-73.970325</td>\n",
       "      <td>477</td>\n",
       "      <td>W 41 St &amp; 8 Ave</td>\n",
       "      <td>40.756405</td>\n",
       "      <td>-73.990026</td>\n",
       "      <td>21409</td>\n",
       "      <td>Subscriber</td>\n",
       "      <td>1987.0</td>\n",
       "      <td>1</td>\n",
       "    </tr>\n",
       "    <tr>\n",
       "      <th>1</th>\n",
       "      <td>750</td>\n",
       "      <td>3/1/2015 0:01</td>\n",
       "      <td>3/1/2015 0:14</td>\n",
       "      <td>258</td>\n",
       "      <td>DeKalb Ave &amp; Vanderbilt Ave</td>\n",
       "      <td>40.689407</td>\n",
       "      <td>-73.968855</td>\n",
       "      <td>436</td>\n",
       "      <td>Hancock St &amp; Bedford Ave</td>\n",
       "      <td>40.682166</td>\n",
       "      <td>-73.953990</td>\n",
       "      <td>19397</td>\n",
       "      <td>Subscriber</td>\n",
       "      <td>1968.0</td>\n",
       "      <td>1</td>\n",
       "    </tr>\n",
       "    <tr>\n",
       "      <th>2</th>\n",
       "      <td>663</td>\n",
       "      <td>3/1/2015 0:01</td>\n",
       "      <td>3/1/2015 0:12</td>\n",
       "      <td>497</td>\n",
       "      <td>E 17 St &amp; Broadway</td>\n",
       "      <td>40.737050</td>\n",
       "      <td>-73.990093</td>\n",
       "      <td>477</td>\n",
       "      <td>W 41 St &amp; 8 Ave</td>\n",
       "      <td>40.756405</td>\n",
       "      <td>-73.990026</td>\n",
       "      <td>20998</td>\n",
       "      <td>Customer</td>\n",
       "      <td>NaN</td>\n",
       "      <td>0</td>\n",
       "    </tr>\n",
       "    <tr>\n",
       "      <th>3</th>\n",
       "      <td>480</td>\n",
       "      <td>3/1/2015 0:02</td>\n",
       "      <td>3/1/2015 0:10</td>\n",
       "      <td>470</td>\n",
       "      <td>W 20 St &amp; 8 Ave</td>\n",
       "      <td>40.743453</td>\n",
       "      <td>-74.000040</td>\n",
       "      <td>491</td>\n",
       "      <td>E 24 St &amp; Park Ave S</td>\n",
       "      <td>40.740964</td>\n",
       "      <td>-73.986022</td>\n",
       "      <td>21565</td>\n",
       "      <td>Subscriber</td>\n",
       "      <td>1983.0</td>\n",
       "      <td>1</td>\n",
       "    </tr>\n",
       "    <tr>\n",
       "      <th>4</th>\n",
       "      <td>1258</td>\n",
       "      <td>3/1/2015 0:02</td>\n",
       "      <td>3/1/2015 0:23</td>\n",
       "      <td>345</td>\n",
       "      <td>W 13 St &amp; 6 Ave</td>\n",
       "      <td>40.736494</td>\n",
       "      <td>-73.997044</td>\n",
       "      <td>473</td>\n",
       "      <td>Rivington St &amp; Chrystie St</td>\n",
       "      <td>40.721101</td>\n",
       "      <td>-73.991925</td>\n",
       "      <td>14693</td>\n",
       "      <td>Subscriber</td>\n",
       "      <td>1970.0</td>\n",
       "      <td>1</td>\n",
       "    </tr>\n",
       "  </tbody>\n",
       "</table>\n",
       "</div>"
      ],
      "text/plain": [
       "   tripduration      starttime       stoptime  start station id  \\\n",
       "0           669  3/1/2015 0:00  3/1/2015 0:11               164   \n",
       "1           750  3/1/2015 0:01  3/1/2015 0:14               258   \n",
       "2           663  3/1/2015 0:01  3/1/2015 0:12               497   \n",
       "3           480  3/1/2015 0:02  3/1/2015 0:10               470   \n",
       "4          1258  3/1/2015 0:02  3/1/2015 0:23               345   \n",
       "\n",
       "            start station name  start station latitude  \\\n",
       "0              E 47 St & 2 Ave               40.753231   \n",
       "1  DeKalb Ave & Vanderbilt Ave               40.689407   \n",
       "2           E 17 St & Broadway               40.737050   \n",
       "3              W 20 St & 8 Ave               40.743453   \n",
       "4              W 13 St & 6 Ave               40.736494   \n",
       "\n",
       "   start station longitude  end station id            end station name  \\\n",
       "0               -73.970325             477             W 41 St & 8 Ave   \n",
       "1               -73.968855             436    Hancock St & Bedford Ave   \n",
       "2               -73.990093             477             W 41 St & 8 Ave   \n",
       "3               -74.000040             491        E 24 St & Park Ave S   \n",
       "4               -73.997044             473  Rivington St & Chrystie St   \n",
       "\n",
       "   end station latitude  end station longitude  bikeid    usertype  \\\n",
       "0             40.756405             -73.990026   21409  Subscriber   \n",
       "1             40.682166             -73.953990   19397  Subscriber   \n",
       "2             40.756405             -73.990026   20998    Customer   \n",
       "3             40.740964             -73.986022   21565  Subscriber   \n",
       "4             40.721101             -73.991925   14693  Subscriber   \n",
       "\n",
       "   birth year  gender  \n",
       "0      1987.0       1  \n",
       "1      1968.0       1  \n",
       "2         NaN       0  \n",
       "3      1983.0       1  \n",
       "4      1970.0       1  "
      ]
     },
     "execution_count": 6,
     "metadata": {},
     "output_type": "execute_result"
    }
   ],
   "source": [
    "df.head()"
   ]
  },
  {
   "cell_type": "code",
   "execution_count": 7,
   "metadata": {
    "collapsed": false
   },
   "outputs": [
    {
     "data": {
      "text/plain": [
       "Index([u'tripduration', u'starttime', u'stoptime', u'start station id',\n",
       "       u'start station name', u'start station latitude',\n",
       "       u'start station longitude', u'end station id', u'end station name',\n",
       "       u'end station latitude', u'end station longitude', u'bikeid',\n",
       "       u'usertype', u'birth year', u'gender'],\n",
       "      dtype='object')"
      ]
     },
     "execution_count": 7,
     "metadata": {},
     "output_type": "execute_result"
    }
   ],
   "source": [
    "df.columns"
   ]
  },
  {
   "cell_type": "code",
   "execution_count": 8,
   "metadata": {
    "collapsed": false,
    "scrolled": true
   },
   "outputs": [
    {
     "data": {
      "text/html": [
       "<div>\n",
       "<table border=\"1\" class=\"dataframe\">\n",
       "  <thead>\n",
       "    <tr style=\"text-align: right;\">\n",
       "      <th></th>\n",
       "      <th>birth year</th>\n",
       "      <th>gender</th>\n",
       "    </tr>\n",
       "  </thead>\n",
       "  <tbody>\n",
       "    <tr>\n",
       "      <th>0</th>\n",
       "      <td>1987.0</td>\n",
       "      <td>1</td>\n",
       "    </tr>\n",
       "    <tr>\n",
       "      <th>1</th>\n",
       "      <td>1968.0</td>\n",
       "      <td>1</td>\n",
       "    </tr>\n",
       "    <tr>\n",
       "      <th>3</th>\n",
       "      <td>1983.0</td>\n",
       "      <td>1</td>\n",
       "    </tr>\n",
       "    <tr>\n",
       "      <th>4</th>\n",
       "      <td>1970.0</td>\n",
       "      <td>1</td>\n",
       "    </tr>\n",
       "    <tr>\n",
       "      <th>5</th>\n",
       "      <td>1983.0</td>\n",
       "      <td>1</td>\n",
       "    </tr>\n",
       "  </tbody>\n",
       "</table>\n",
       "</div>"
      ],
      "text/plain": [
       "   birth year  gender\n",
       "0      1987.0       1\n",
       "1      1968.0       1\n",
       "3      1983.0       1\n",
       "4      1970.0       1\n",
       "5      1983.0       1"
      ]
     },
     "execution_count": 8,
     "metadata": {},
     "output_type": "execute_result"
    }
   ],
   "source": [
    "df=df[df.usertype!='Customer']\n",
    "df.drop(['starttime', 'stoptime', 'start station id',\n",
    "       'start station name', 'start station latitude',\n",
    "       'start station longitude', 'end station id', 'end station name',\n",
    "       'end station latitude', 'end station longitude', 'bikeid','usertype','tripduration'], axis=1, inplace=True)\n",
    "df.head()"
   ]
  },
  {
   "cell_type": "code",
   "execution_count": 9,
   "metadata": {
    "collapsed": false,
    "scrolled": false
   },
   "outputs": [],
   "source": [
    "df_m_above45 = (df['birth year'][df['gender'] == 1]).groupby(df['birth year'] < 1971.0).count()\n",
    "df_w_above45 = (df['birth year'][df['gender'] == 2]).groupby(df['birth year'] < 1971.0).count()\n",
    "error_m = np.sqrt(df_m_above45)\n",
    "error_w = np.sqrt(df_w_above45)"
   ]
  },
  {
   "cell_type": "code",
   "execution_count": 10,
   "metadata": {
    "collapsed": false
   },
   "outputs": [
    {
     "data": {
      "text/plain": [
       "<matplotlib.legend.Legend at 0x7f00b1090090>"
      ]
     },
     "execution_count": 10,
     "metadata": {},
     "output_type": "execute_result"
    },
    {
     "data": {
      "image/png": "[encoded data removed]",
      "text/plain": [
       "<matplotlib.figure.Figure at 0x7f00b1168690>"
      ]
     },
     "metadata": {},
     "output_type": "display_data"
    }
   ],
   "source": [
    "fig=pl.figure(figsize(5,5))\n",
    "norm_w = 1\n",
    "norm_m = 1\n",
    "ax=((df_m_above45) / norm_m).plot(kind=\"bar\", yerr=[\n",
    "            ((error_m) / norm_m, (error_m) / norm_m)], alpha=0.5, rot=0, label='men bikers')\n",
    "\n",
    "((df_w_above45) / norm_w).plot(kind=\"bar\",  color='IndianRed', alpha=0.5, rot=0, yerr=[\n",
    "            ((error_w) / norm_w, (error_w) / norm_w)], label='women bikers')\n",
    "\n",
    "ax.xaxis.set_ticklabels(['age 45 or below','age above 45'], fontsize=10)\n",
    "ax.set_ylabel (\"Number of rides\", fontsize=10)\n",
    "ax.set_xlabel (\"Age\", fontsize=10)\n",
    "ax.set_title(\"Figure 1: Distribution of Citibike bikers by Age in March 2015, absolute counts\",fontsize=10)\n",
    "pl.legend(['men bikers','women bikers'], loc='best', fontsize=10)"
   ]
  },
  {
   "cell_type": "code",
   "execution_count": 13,
   "metadata": {
    "collapsed": false
   },
   "outputs": [
    {
     "data": {
      "text/plain": [
       "<matplotlib.legend.Legend at 0x7f012481aa50>"
      ]
     },
     "execution_count": 13,
     "metadata": {},
     "output_type": "execute_result"
    },
    {
     "data": {
      "image/png": "[encoded data removed]",
      "text/plain": [
       "<matplotlib.figure.Figure at 0x7f00b0f2b6d0>"
      ]
     },
     "metadata": {},
     "output_type": "display_data"
    }
   ],
   "source": [
    "fig = pl.figure(figsize(5,5))\n",
    "norm_m = df_m_above45.sum()\n",
    "ax=((df_m_above45) / norm_m).plot(kind=\"bar\", color='Blue', yerr=[\n",
    "            ((error_m) / norm_m, (error_m) / norm_m)], alpha=0.5, rot=0, label='men bikers')\n",
    "norm_w = df_w_above45.sum()\n",
    "\n",
    "((df_w_above45) / norm_w).plot(kind=\"bar\",  color='IndianRed', alpha=0.4, rot=0, yerr=[\n",
    "            ((error_w) / norm_w, (error_w) / norm_w)], label='women bikers')\n",
    "ax.xaxis.set_ticklabels(['age 45 or below','age above 45'], fontsize=10)\n",
    "ax.set_ylabel (\"Fractions of rides\", fontsize=10)\n",
    "ax.set_xlabel (\"Age\", fontsize=10)\n",
    "ax.set_title('Distribution of Citibike bikers by age in March 2015, normalized', fontsize=10)\n",
    "pl.legend(['men bikers','women bikers'], loc='best', fontsize=10)"
   ]
  },
  {
   "cell_type": "code",
   "execution_count": 12,
   "metadata": {
    "collapsed": false
   },
   "outputs": [
    {
     "name": "stdout",
     "output_type": "stream",
     "text": [
      "Men: above age 45:0.345, age 45 or below:0.655, above age 45 error:0.001, age 45 or below error:0.002\n",
      "Women: above age 45:0.307, age 45 or below:0.693, above age 45 error:0.002, age 45 or below error:0.003\n"
     ]
    },
    {
     "data": {
      "text/plain": [
       "<matplotlib.legend.Legend at 0x7f00b0d35310>"
      ]
     },
     "execution_count": 12,
     "metadata": {},
     "output_type": "execute_result"
    },
    {
     "data": {
      "image/png": "[encoded data removed]",
      "text/plain": [
       "<matplotlib.figure.Figure at 0x7f00b0f87e50>"
      ]
     },
     "metadata": {},
     "output_type": "display_data"
    }
   ],
   "source": [
    "fig = pl.figure(figsize(10,5))\n",
    "ax1 = fig.add_subplot(121)\n",
    "ax2 = fig.add_subplot(122)\n",
    "ax1.set_xticks([])\n",
    "ax2.set_xticks([])\n",
    "m_above45 = sum(df_m_above45[1]) * 1.0 / norm_m\n",
    "m_45orbelow = sum(df_m_above45[0]) * 1.0 / norm_m\n",
    "eAbove45_m = np.sqrt(sum(error_m[1]**2)) / norm_m\n",
    "e45orbelow_m = np.sqrt(sum(error_m[0]**2)) / norm_m\n",
    "\n",
    "w_above45 = sum(df_w_above45[1]) * 1.0 / norm_w\n",
    "w_45orbelow = sum(df_w_above45[0]) * 1.0 / norm_w\n",
    "eAbove45_w = np.sqrt(sum(error_w[1]**2)) / norm_w\n",
    "e45orbelow_w = np.sqrt(sum(error_w[0]**2)) / norm_w\n",
    "\n",
    "print(\"Men: above age 45:{0:.3f}, age 45 or below:{1:.3f}, above age 45 error:{2:.3f}, age 45 or below error:{3:.3f}\"\\\n",
    "      .format(m_above45, m_45orbelow, eAbove45_m, e45orbelow_m))\n",
    "print(\"Women: above age 45:{0:.3f}, age 45 or below:{1:.3f}, above age 45 error:{2:.3f}, age 45 or below error:{3:.3f}\"\\\n",
    "      .format(w_above45, w_45orbelow, eAbove45_w, e45orbelow_w))\n",
    "\n",
    "ax1.errorbar([0.4], [m_above45], yerr=[eAbove45_m], fmt='o', label='men')\n",
    "ax1.errorbar([0.2], [w_above45], yerr=[eAbove45_w], fmt='o', label='women')\n",
    "ax1.set_xlim(0, 0.5)\n",
    "ax2.errorbar([0.4], [m_45orbelow], yerr=[e45orbelow_m], fmt='o', label='men')\n",
    "ax2.errorbar([0.2], [w_45orbelow], yerr=[e45orbelow_w], fmt='o', label='women')\n",
    "ax1.set_xlim(0, 0.5)\n",
    "ax1.set_title(\"Above age 45\")\n",
    "ax2.set_title(\"Age 45 or below\")\n",
    "ax2.set_ylabel(\"Fraction of normalized rides by age\", fontsize = 10)\n",
    "ax1.set_ylabel(\"Fraction of normalized rides by age\", fontsize = 10)\n",
    "\n",
    "pl.xlim(-0.5, 1.5)\n",
    "pl.legend(fontsize = 10)"
   ]
  },
  {
   "cell_type": "markdown",
   "metadata": {},
   "source": [
    "#### Figure 3: Fraction of Citibike bikers per gender in March 2015 for age above 45 (left) and age 45 or below (right)"
   ]
  }
 ],
 "metadata": {
  "kernelspec": {
   "display_name": "PUI2016_Python2",
   "language": "python",
   "name": "pui2016_python2"
  },
  "language_info": {
   "codemirror_mode": {
    "name": "ipython",
    "version": 2
   },
   "file_extension": ".py",
   "mimetype": "text/x-python",
   "name": "python",
   "nbconvert_exporter": "python",
   "pygments_lexer": "ipython2",
   "version": "2.7.12"
  }
 },
 "nbformat": 4,
 "nbformat_minor": 0
}
