{
 "cells": [
  {
   "cell_type": "markdown",
   "metadata": {},
   "source": [
    "## Z-Test Score\n",
    "Question: Is the new bus route for X8 improving commute times?\n",
    "\n",
    "Null Hypothesis: The mean commute time for the new bus route (Tnew) is the same or longer than the old bus route (Told).\n",
    "\n",
    "Alternate Hypothesis: The mean commute time for the new bus route (Tnew) is shorter than the old bus route (Told).\n",
    "\n",
    "H0: $T_{new}>= T_{old}$  \n",
    "\n",
    "H1: $T_{new}< T_{old}$\n",
    "\n",
    "significence level: α = 0.05"
   ]
  },
  {
   "cell_type": "code",
   "execution_count": 1,
   "metadata": {
    "collapsed": true
   },
   "outputs": [],
   "source": [
    "from __future__ import print_function\n",
    "import csv\n",
    "import requests\n",
    "import sys\n",
    "import os\n",
    "\n",
    "import numpy as np\n",
    "from numpy.random import randn\n",
    "import pylab as pl\n",
    "import pandas as pd"
   ]
  },
  {
   "cell_type": "code",
   "execution_count": 2,
   "metadata": {
    "collapsed": false
   },
   "outputs": [
    {
     "data": {
      "text/plain": [
       "0    34.466162\n",
       "dtype: float64"
      ]
     },
     "execution_count": 2,
     "metadata": {},
     "output_type": "execute_result"
    }
   ],
   "source": [
    "#Given old bus route data: ~N(u=36,sigma=6)\n",
    "Told_mean = 36 #mean travel time of old bus route\n",
    "Told_std = 6\n",
    "#busdata = new bus route travel times\n",
    "data = !curl -O https://raw.githubusercontent.com/fedhere/PUI2016_fb55/master/Lab3_fb55/times.txt\n",
    "busdata = pd.read_csv('times.txt', sep=\" \", header = None, )\n",
    "#New bus route mean\n",
    "Tnew_mean = busdata.mean()\n",
    "Tnew_mean"
   ]
  },
  {
   "cell_type": "code",
   "execution_count": 3,
   "metadata": {
    "collapsed": false
   },
   "outputs": [
    {
     "data": {
      "text/plain": [
       "0    2.556397\n",
       "dtype: float64"
      ]
     },
     "execution_count": 3,
     "metadata": {},
     "output_type": "execute_result"
    }
   ],
   "source": [
    "z_score = (Told_mean-Tnew_mean)/(Told_std/np.sqrt(len(busdata)))\n",
    "z_score"
   ]
  },
  {
   "cell_type": "markdown",
   "metadata": {},
   "source": [
    "The z stat we get means the new mean is farther than 2 sigmas away from the old mean, therefore we reject null hypothesis.\n"
   ]
  }
 ],
 "metadata": {
  "kernelspec": {
   "display_name": "PUI2016_Python2",
   "language": "python",
   "name": "pui2016_python2"
  },
  "language_info": {
   "codemirror_mode": {
    "name": "ipython",
    "version": 2
   },
   "file_extension": ".py",
   "mimetype": "text/x-python",
   "name": "python",
   "nbconvert_exporter": "python",
   "pygments_lexer": "ipython2",
   "version": "2.7.12"
  }
 },
 "nbformat": 4,
 "nbformat_minor": 0
}
